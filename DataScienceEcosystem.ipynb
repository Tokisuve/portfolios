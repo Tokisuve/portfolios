{
 "cells": [
  {
   "cell_type": "markdown",
   "id": "34bb1e9c-8290-45db-9cbc-5e2d21f4dd2c",
   "metadata": {},
   "source": [
    "Exercise 2 - Create a markdown cell with the title of the notebook.\n",
    "# Data Science Tools and Ecosystem"
   ]
  },
  {
   "cell_type": "markdown",
   "id": "0d223fdb-eb81-455d-aa65-45ed217b4c95",
   "metadata": {},
   "source": [
    "Exercise 3 - Create a markdown cell for an introduction. (1 pt)\n",
    "# In this notebook, Data Science Tools and Ecosystem are summarized."
   ]
  },
  {
   "cell_type": "markdown",
   "id": "1bd6e228-cb94-4fde-b824-cff2095957d5",
   "metadata": {},
   "source": [
    "Exercise 4 - Create a markdown cell to list data science languages. (3 pts)\n",
    "### Some of the popular languages that Data Scientists use are:\n",
    "\n",
    "1. Python\n",
    "2. R\n",
    "3. SQL\n",
    "4. Java\n",
    "5. Julia\n",
    "6. Scala"
   ]
  },
  {
   "cell_type": "markdown",
   "id": "ef66351e-c306-432f-9036-8b8ee3da69e9",
   "metadata": {},
   "source": [
    "Exercise 5 - Create a markdown cell to list data science libraries. (3 pts)\n",
    "### Some of the commonly used libraries used by Data Scientists include:\n",
    "\n",
    "<ol>\n",
    "    <li>TensorFlow</li>\n",
    "    <li>Pandas</li>\n",
    "    <li>SciKit-Learn</li>\n",
    "    <li>NumPy</li>\n",
    "    <li>Pipenv</li>\n",
    "    <li>Matplotlib</li>\n",
    "    <li>Keras</li>\n",
    "    <li>SciPy</li>\n",
    "\n",
    "</ol>\n",
    "\n",
    "\n",
    "\n",
    "\n",
    "\n"
   ]
  },
  {
   "cell_type": "markdown",
   "id": "4188c8dd-53f3-4acf-b9e6-143843529f60",
   "metadata": {},
   "source": [
    "#### Exercise 6 - Create a markdown cell with a table of Data Science tools. (3 pts)\n",
    "Data Science Tools:\n",
    "\n",
    "| Data Science Tools |\n",
    "| :---               |\n",
    "| Python             |\n",
    "| Hadoop             |\n",
    "| Jupyter Notebook   |"
   ]
  },
  {
   "cell_type": "markdown",
   "id": "ce84516f-b7c9-49af-8a26-0ef2c95b44e2",
   "metadata": {},
   "source": [
    "##### Exercise 7 - Create a markdown cell introducing arithmetic expression examples. (1 pt)\n",
    "\n",
    "### Below are a few examples of evaluating arithmetic expressions in Python"
   ]
  },
  {
   "cell_type": "code",
   "execution_count": 13,
   "id": "6b6f6b58-0112-4390-9631-e6a746352e45",
   "metadata": {},
   "outputs": [
    {
     "data": {
      "text/plain": [
       "245"
      ]
     },
     "execution_count": 13,
     "metadata": {},
     "output_type": "execute_result"
    }
   ],
   "source": [
    "# Arithmetic operations\n",
    "code1 = compile(\"222 + 23\", \"<string>\", \"eval\")\n",
    "eval(code1)\n",
    "# Result: 245"
   ]
  },
  {
   "cell_type": "code",
   "execution_count": 14,
   "id": "5f9b8f2b-3ee6-4bc6-8a1c-93a9b8e7604a",
   "metadata": {},
   "outputs": [
    {
     "data": {
      "text/plain": [
       "24"
      ]
     },
     "execution_count": 14,
     "metadata": {},
     "output_type": "execute_result"
    }
   ],
   "source": [
    "code2 = compile(\"(5 + 7) * 2\", \"<string>\", \"eval\")\n",
    "eval(code2)\n",
    "# Result: 24\n"
   ]
  },
  {
   "cell_type": "code",
   "execution_count": 15,
   "id": "8b3f8d26-fbd3-4d2f-b82b-46ccf943431f",
   "metadata": {},
   "outputs": [
    {
     "data": {
      "text/plain": [
       "65449.84694978735"
      ]
     },
     "execution_count": 15,
     "metadata": {},
     "output_type": "execute_result"
    }
   ],
   "source": [
    "import math\n",
    "# Volume of a sphere\n",
    "code3 = compile(\"4 / 3 * math.pi * math.pow(25, 3)\", \"<string>\", \"eval\")\n",
    "eval(code3)\n",
    "# Result: 65449.84694978735"
   ]
  },
  {
   "cell_type": "markdown",
   "id": "3630615b-63b5-4e7a-abe3-ecdb21db8c96",
   "metadata": {},
   "source": [
    "##### Exercise 8 - Create a code cell to multiply and add numbers. (2 pts)"
   ]
  },
  {
   "cell_type": "code",
   "execution_count": 20,
   "id": "c48d5b44-527b-471e-9f60-d05f4f9d1752",
   "metadata": {},
   "outputs": [
    {
     "data": {
      "text/plain": [
       "17"
      ]
     },
     "execution_count": 20,
     "metadata": {},
     "output_type": "execute_result"
    }
   ],
   "source": [
    "# This a simple arithmetic expression to mutiply then add integers\n",
    "(3*4)+5\n",
    "# Result: 17"
   ]
  },
  {
   "cell_type": "markdown",
   "id": "abc170a0-ef60-4fa5-a2be-95b575207e01",
   "metadata": {},
   "source": [
    "##### Exercise 9 - Create a code cell to convert minutes to hours. (2 pts)"
   ]
  },
  {
   "cell_type": "code",
   "execution_count": 22,
   "id": "981d9b67-b8e9-4fa0-a962-0647c2eacbfe",
   "metadata": {},
   "outputs": [
    {
     "name": "stdout",
     "output_type": "stream",
     "text": [
      "0 days, 3.3333333333333335 hours, 0 mins. \n"
     ]
    }
   ],
   "source": [
    "# This will convert 200 minutes to hours by diving by 60\n",
    "days = 0\n",
    "hours = 0\n",
    "mins = 0\n",
    "\n",
    "time = 200\n",
    "#days = time / 1440\n",
    "leftover_minutes = time % 1440\n",
    "hours = leftover_minutes / 60\n",
    "#mins = time - (days*1440) - (hours*60)\n",
    "print(str(days) + \" days, \" + str(hours) + \" hours, \" + str(mins) +  \" mins. \")\n",
    "\n",
    "# Result: 0 days, 3.3333333333333335 hours, 0 mins"
   ]
  },
  {
   "cell_type": "markdown",
   "id": "0fc569aa-b11c-4018-91c5-1233386ccc33",
   "metadata": {},
   "source": [
    "##### Exercise 10 -Insert a markdown cell to list Objectives.\n",
    "\n",
    "## Objectives:\n",
    "\n",
    "List popular languages for Data Science:\n",
    "<ul>\n",
    "    <li>RFlow</li>\n",
    "    <li>Python</li>\n",
    "    <li>SciKit-Learn</li>\n",
    "    <li>NumPy</li>\n",
    "    <li>Pipenv</li>\n",
    "    <li>Matplotlib</li>\n",
    "    <li>Keras</li>\n",
    "    <li>SciPy</li>\n",
    "\n",
    "</ul>"
   ]
  },
  {
   "cell_type": "markdown",
   "id": "0ddef69e-85c6-47c6-934f-793e7f4a8b4f",
   "metadata": {},
   "source": [
    "##### Exercise 11 - Create a markdown cell to indicate the Author’s name. (2 pts)"
   ]
  },
  {
   "cell_type": "markdown",
   "id": "66601bab-9335-4cd6-8d6f-5acbd0f0c98a",
   "metadata": {},
   "source": [
    "## Author:\n",
    "Tochukwu Joseph Ugoala"
   ]
  },
  {
   "cell_type": "code",
   "execution_count": null,
   "id": "60901ed4-55d1-4190-8306-5aba1788f8d4",
   "metadata": {},
   "outputs": [],
   "source": []
  }
 ],
 "metadata": {
  "kernelspec": {
   "display_name": "Python 3 (ipykernel)",
   "language": "python",
   "name": "python3"
  },
  "language_info": {
   "codemirror_mode": {
    "name": "ipython",
    "version": 3
   },
   "file_extension": ".py",
   "mimetype": "text/x-python",
   "name": "python",
   "nbconvert_exporter": "python",
   "pygments_lexer": "ipython3",
   "version": "3.12.7"
  }
 },
 "nbformat": 4,
 "nbformat_minor": 5
}
